{
 "cells": [
  {
   "cell_type": "markdown",
   "metadata": {},
   "source": [
    "---\n",
    "title: \"Training spiking neural networks, fast.\"\n",
    "\n",
    "commentable: true\n",
    "\n",
    "date: 2022-11-27\n",
    "lastmod: 2022-12-03\n",
    "draft: false\n",
    "\n",
    "tags: [\"SNN\"]\n",
    "summary: \"How to use caching and EXODUS to speed up training by a factor of more than 10.\"\n",
    "---"
   ]
  },
  {
   "cell_type": "markdown",
   "metadata": {},
   "source": [
    "When training a spiking neural network (SNN), one might think about how the learning rate or model size affect training time. But when it comes to training *faster*, optimizing data movement is crucial. 3 out of the first 4 points in [this list](https://www.reddit.com/r/MachineLearning/comments/kvs1ex/d_here_are_17_ways_of_making_pytorch_training/) weighted after potential speed-up have to do with how data is shaped and moved around between actual computations. It makes a huge difference, because training faster means getting results faster!\n",
    "\n",
    "For this post we train an SNN on the [Heidelberg Spiking Speech Commands](https://zenkelab.org/resources/spiking-heidelberg-datasets-shd/) dataset to do audio stream classification. We'll benchmark different data loading strategies using [Tonic](https://github.com/neuromorphs/tonic) and show that with the right strategy, we can achieve a more than 10-fold speed-up compared to the naïve approach.\n",
    "\n",
    "For all our benchmarks, we already assume multiple worker threads and pinning the host memory. We'll increase throughput by using different forms of caching to disk or GPU. By applying deterministic transformations upfront and saving the new tensor, we can save a lot of time during training. \n",
    "This tutorial is run on a machine with Ubuntu 20.04, an Intel Core i7-8700K CPU @ 3.70GHz, a Samsung SSD 850 and an NVIDIA GeForce RTX 3080 GPU.\n",
    "\n",
    "All data from neuromorphic datasets in Tonic is provided as NxD numpy arrays. We'll need to transform this into a dense tensor to serve it to the GPU, and we'll also do some downsampling of time steps. Let's first define the transform. We know that samples of audio input data in this dataset are 0.8-1.2s long across 700 frequency channels at microsecond resolution. We'll [downsample](https://tonic.readthedocs.io/en/latest/reference/generated/tonic.transforms.Downsample.html#tonic.transforms.Downsample) each sample to 100 channels, [bin](https://tonic.readthedocs.io/en/latest/reference/generated/tonic.transforms.ToFrame.html#tonic.transforms.ToFrame) events every 4 ms to one frame and [cut](https://tonic.readthedocs.io/en/latest/reference/generated/tonic.transforms.CropTime.html#tonic.transforms.CropTime) samples that are longer than 1s. That leaves us with a maximum of 250 time steps per sample."
   ]
  },
  {
   "cell_type": "code",
   "execution_count": 1,
   "metadata": {},
   "outputs": [],
   "source": [
    "from tonic import transforms\n",
    "\n",
    "dt = 4000  # all time units in Tonic in us\n",
    "encoding_dim = 100\n",
    "\n",
    "dense_transform = transforms.Compose(\n",
    "    [\n",
    "        transforms.Downsample(spatial_factor=encoding_dim / 700),\n",
    "        transforms.CropTime(max=1e6),\n",
    "        transforms.ToFrame(\n",
    "            sensor_size=(encoding_dim, 1, 1), time_window=dt, include_incomplete=True\n",
    "        ),\n",
    "    ]\n",
    ")"
   ]
  },
  {
   "cell_type": "markdown",
   "metadata": {},
   "source": [
    "Next we load the training dataset and assign the transform."
   ]
  },
  {
   "cell_type": "code",
   "execution_count": 2,
   "metadata": {},
   "outputs": [],
   "source": [
    "from tonic import datasets\n",
    "\n",
    "dense_dataset = datasets.SSC(\"./data\", split=\"train\", transform=dense_transform)"
   ]
  },
  {
   "cell_type": "markdown",
   "metadata": {},
   "source": [
    "Let's plot one such dense tensor sample:"
   ]
  },
  {
   "cell_type": "code",
   "execution_count": 9,
   "metadata": {
    "tags": [
     "remove_cell"
    ]
   },
   "outputs": [],
   "source": [
    "dense_sample, dense_target = dense_dataset[0]\n",
    "\n",
    "import plotly.express as px\n",
    "\n",
    "fig = px.imshow(\n",
    "    dense_sample.squeeze().T,\n",
    "    template=\"plotly_dark\",\n",
    "    title=\"Spoken digit label: \" + dense_dataset.classes[dense_target].decode(\"ascii\"),\n",
    "    labels=dict(x=\"Time step\", y=\"Channel\", color=\"Number of spikes\"),\n",
    ")\n",
    "fig.write_json(\"result0.json\");"
   ]
  },
  {
   "cell_type": "markdown",
   "metadata": {},
   "source": [
    "{{< chart data=\"result0\" >}}\n",
    "\n",
    "Next we define a spiking model. We use a simple integrate-and-fire (IAF) feed-forward architecture. For each dataloading method, we're going to test two different models. One is a [Sinabs](https://sinabs.readthedocs.io) model which is pretty much pure PyTorch plus for loops and the second one is an [EXODUS](https://github.com/synsense/sinabs-exodus) model, which is also based on PyTorch but vectorizes gradient computation for the time dimension using custom CUDA code. Both models compute the same activations and gradients, but the latter provides a significant speedup."
   ]
  },
  {
   "cell_type": "code",
   "execution_count": 4,
   "metadata": {},
   "outputs": [],
   "source": [
    "import torch.nn as nn\n",
    "import sinabs.layers as sl\n",
    "import sinabs.exodus.layers as el\n",
    "\n",
    "\n",
    "class SNN(nn.Sequential):\n",
    "    def __init__(self, backend, hidden_dim: int = 128):\n",
    "        assert backend == sl or backend == el\n",
    "        super().__init__(\n",
    "            nn.Linear(encoding_dim, hidden_dim),\n",
    "            backend.IAF(),\n",
    "            nn.Linear(hidden_dim, hidden_dim),\n",
    "            backend.IAF(),\n",
    "            nn.Linear(hidden_dim, hidden_dim),\n",
    "            backend.IAF(),\n",
    "            nn.Linear(hidden_dim, 35),\n",
    "        )\n",
    "\n",
    "\n",
    "sinabs_model = SNN(backend=sl).cuda()\n",
    "exodus_model = SNN(backend=el).cuda()"
   ]
  },
  {
   "cell_type": "markdown",
   "metadata": {},
   "source": [
    "## 1. Naïve dataloading\n",
    "\n",
    "For the first benchmark we test the most common setup without any caching. We load every sample from an hdf5 file on disk which provides us with a numpy array in memory. For each sample, we apply our `dense_transform` defined earlier to create a dense tensor which we can then batch together with other samples and feed it to the network.\n",
    "\n",
    "<figure>\n",
    "  <img\n",
    "  src=\"images/caching1.svg\"\n",
    "  alt=\"Naïve caching\">\n",
    "  <figcaption>Figure 1: For every sample, we apply our transform ToFrame. The speed depends a lot on the CPU and the amount of worker threads used.</figcaption>\n",
    "</figure>"
   ]
  },
  {
   "cell_type": "code",
   "execution_count": 5,
   "metadata": {},
   "outputs": [],
   "source": [
    "import sinabs\n",
    "import timeit\n",
    "import tonic\n",
    "import pandas as pd\n",
    "from torch.utils.data import DataLoader\n",
    "\n",
    "\n",
    "dataloader_kwargs = dict(\n",
    "    batch_size=128,\n",
    "    shuffle=True,\n",
    "    drop_last=True,\n",
    "    pin_memory=True,\n",
    "    collate_fn=tonic.collation.PadTensors(batch_first=True),\n",
    "    num_workers=4,\n",
    ")\n",
    "\n",
    "naive_dataloader = DataLoader(dense_dataset, **dataloader_kwargs)\n",
    "\n",
    "\n",
    "def training_loop(dataloader, model):\n",
    "    for data, targets in iter(dataloader):\n",
    "        data, targets = data.squeeze().cuda(), targets.cuda()\n",
    "        sinabs.reset_states(model)\n",
    "        output = model(data)\n",
    "        loss = nn.functional.cross_entropy(output.sum(1), targets)\n",
    "        loss.backward()"
   ]
  },
  {
   "cell_type": "code",
   "execution_count": null,
   "metadata": {
    "tags": [
     "remove_cell"
    ]
   },
   "outputs": [],
   "source": [
    "# result dataframe filled with zeros\n",
    "df = pd.DataFrame(\n",
    "    {\n",
    "        \"Training loop time (s)\": [0] * 6,\n",
    "        \"Model\": [\"Sinabs\"] * 3 + [\"EXODUS\"] * 3,\n",
    "        \"Dataloading method\": [\"Naïve\", \"Disk-cached\", \"GPU-cached\"] * 2,\n",
    "    }\n",
    ")"
   ]
  },
  {
   "cell_type": "code",
   "execution_count": 6,
   "metadata": {},
   "outputs": [],
   "source": [
    "from timeit import timeit\n",
    "\n",
    "time1 = timeit(lambda: training_loop(naive_dataloader, sinabs_model), number=1)\n",
    "time2 = timeit(lambda: training_loop(naive_dataloader, exodus_model), number=1)"
   ]
  },
  {
   "cell_type": "code",
   "execution_count": 7,
   "metadata": {
    "tags": [
     "remove_cell"
    ]
   },
   "outputs": [],
   "source": [
    "df.iloc[0, 0] = time1\n",
    "df.iloc[3, 0] = time2\n",
    "\n",
    "import plotly.express as px\n",
    "\n",
    "fig = px.bar(\n",
    "    df,\n",
    "    x=\"Dataloading method\",\n",
    "    y=\"Training loop time (s)\",\n",
    "    color=\"Model\",\n",
    "    template=\"plotly_dark\",\n",
    "    barmode=\"group\",\n",
    "    title=\"Training SNNs faster\",\n",
    ")\n",
    "fig.write_json(\"result1.json\");"
   ]
  },
  {
   "cell_type": "markdown",
   "metadata": {},
   "source": [
    "{{< chart data=\"result1\" >}}"
   ]
  },
  {
   "cell_type": "markdown",
   "metadata": {},
   "source": [
    "The Sinabs model takes more than two minutes per epoch using the simple strategy, which is far from exciting. By contrast, we can already see the huge speedup that EXODUS provides, reducing epoch time by a third! These results are our baseline with the basic dataloading.\n",
    "\n",
    "## Disk caching\n",
    "Let's try to be a bit smarter now. `ToFrame` is a deterministic transform, so for the same sample we'll always receive the same transformed data. Given that we might train for 100 epochs, which looks at each sample 100 times, that's a lot of wasted compute! Now we're going to cache, which means save, those transformed samples to disk during the first epoch, so that we don't need to recompute them later on! To do this we simply wrap our previous dataset in a [DiskCachedDataset](https://tonic.readthedocs.io/en/latest/reference/data_classes.html#tonic.DiskCachedDataset) and provide the cache path. When a new sample is about to be loaded, that class will first check if the transformed sample is already in the cache on disk and if it isn't, it will retrieve the original sample, apply the transform, cache it to disk and then serve it. This caching process slows down training in the first epoch, but it pays off afterwards!\n",
    "\n",
    "<figure>\n",
    "  <img\n",
    "  src=\"images/caching2.svg\"\n",
    "  alt=\"Disk caching\">\n",
    "  <figcaption>Figure 2: During the first epoch, samples are transformed and then cached to disk. Afterwards, the transformed sample is loaded from disk straight away.</figcaption>\n",
    "</figure>"
   ]
  },
  {
   "cell_type": "code",
   "execution_count": 8,
   "metadata": {},
   "outputs": [],
   "source": [
    "disk_cached_dataset = tonic.DiskCachedDataset(\n",
    "    dataset=dense_dataset,\n",
    "    cache_path=f\"cache/{dense_dataset.__class__.__name__}/train/{encoding_dim}/{dt}\",\n",
    ")\n",
    "\n",
    "disk_cached_dataloader = DataLoader(disk_cached_dataset, **dataloader_kwargs)"
   ]
  },
  {
   "cell_type": "code",
   "execution_count": 10,
   "metadata": {},
   "outputs": [],
   "source": [
    "# cache on disk already available\n",
    "time3 = timeit(lambda: training_loop(disk_cached_dataloader, sinabs_model), number=1)\n",
    "time4 = timeit(lambda: training_loop(disk_cached_dataloader, exodus_model), number=1)"
   ]
  },
  {
   "cell_type": "code",
   "execution_count": 11,
   "metadata": {
    "tags": [
     "remove_cell"
    ]
   },
   "outputs": [],
   "source": [
    "df.iloc[1, 0] = time3\n",
    "df.iloc[4, 0] = time4\n",
    "\n",
    "fig = px.bar(\n",
    "    df,\n",
    "    x=\"Dataloading method\",\n",
    "    y=\"Training loop time (s)\",\n",
    "    color=\"Model\",\n",
    "    template=\"plotly_dark\",\n",
    "    barmode=\"group\",\n",
    "    title=\"Training SNNs faster\",\n",
    ")\n",
    "fig.write_json(\"result2.json\");"
   ]
  },
  {
   "cell_type": "markdown",
   "metadata": {},
   "source": [
    "{{< chart data=\"result2\" >}}\n",
    "\n",
    "We brought down epoch training time to 14s for the EXODUS model by not having to recompute the `ToFrame` transform! The speedup comes at the expense of disk space. How much disk space does it cost you may ask? The size of the original dataset file is 2.65 GB compared to the generated cache folder of 1.04 GB, which is not too bad!"
   ]
  },
  {
   "cell_type": "code",
   "execution_count": 12,
   "metadata": {
    "tags": [
     "remove_cell"
    ]
   },
   "outputs": [
    {
     "name": "stdout",
     "output_type": "stream",
     "text": [
      "The size of the original dataset file is 2.65 GB compared to the generated cache folder with 1.04 GB.\n"
     ]
    }
   ],
   "source": [
    "from pathlib import Path\n",
    "\n",
    "calculate_folder_size = (\n",
    "    lambda path: sum(\n",
    "        f.stat().st_size for f in Path(path).glob(\"**/*.h*5\") if f.is_file()\n",
    "    )\n",
    "    / 1e9\n",
    ")\n",
    "size_orig_dataset = calculate_folder_size(\"data\")\n",
    "size_cache_folder = calculate_folder_size(\"cache\")\n",
    "\n",
    "print(\n",
    "    f\"The size of the original dataset file is {round(size_orig_dataset, 2)} GB compared to the generated cache folder with {round(size_cache_folder, 2)} GB.\"\n",
    ")"
   ]
  },
  {
   "cell_type": "markdown",
   "metadata": {},
   "source": [
    "The original dataset contained numpy events, whereas the cache folder contains dense tensors. We can compress the dense tensors that much because by default Tonic uses lightweight compression during caching. Disk-caching is generally applicable when training SNNs because it saves you the time to transform your events to dense tensors. Of course you could apply any other deterministic transform before caching it, and also easily apply augmentations to the cached samples as described in [this tutorial](https://tonic.readthedocs.io/en/latest/tutorials/fast_dataloading.html)!\n",
    "\n",
    "Now we notice one more thing. Overall GPU utilisation rate at this point is at ~80%, which means that the GPU is still idling the rest of the time, waiting for new data to arrive. So we can try to go even faster!\n",
    "\n",
    "## GPU caching\n",
    "Instead of loading dense tensors from disk, we can try to cram all our dataset onto the GPU! The issue is that with dense tensors this wouldn't work as they would occupy too much memory. But events are already an efficient format right? So we'll store the events on the GPU as sparse tensors and then simply inflate them as needed by calling to_dense() for each sample. This method is obviously bound by GPU memory so works with rather small datasets such as the one we're testing. However, once you're setup, you can train with _blazing_ speed. For GPU caching we are going to:\n",
    "\n",
    "1. Create a new sparse dataset on the fly by loading them from the disk cache and calling to_sparse() on the transformed tensors.\n",
    "2. Create a new dataloader that now uses a single thread.\n",
    "3. Inflate sparse tensors to dense versions by calling to_dense() in the training loop.\n",
    "\n",
    "<figure>\n",
    "  <img\n",
    "  src=\"images/caching3.svg\"\n",
    "  alt=\"Disk caching\">\n",
    "  <figcaption>Figure 3: During the first epoch, transformed samples are loaded onto the GPU and stored in a list of sparse tensors. Whenever a new sample is needed, it is inflated by to_dense() and fed to the network. This process is almost instantaneous and now bound by what your model can process.</figcaption>\n",
    "</figure>"
   ]
  },
  {
   "cell_type": "code",
   "execution_count": 13,
   "metadata": {
    "tags": [
     "remove_cell"
    ]
   },
   "outputs": [],
   "source": [
    "data_list = []\n",
    "target_list = []\n",
    "for data, targets in iter(disk_cached_dataloader):\n",
    "    data_list.extend(\n",
    "        list(map(lambda x: x.squeeze().to_sparse().coalesce().cuda(), data))\n",
    "    )\n",
    "    target_list.extend(list(map(lambda x: x.byte().cuda(), targets)))\n",
    "\n",
    "sparse_tensor_dataset = list(zip(data_list, target_list))\n",
    "\n",
    "# Samples that are already on the GPU can only be retrieved in a single thread currently\n",
    "dataloader_kwargs.pop(\"num_workers\")\n",
    "dataloader_kwargs.pop(\"pin_memory\")\n",
    "sparse_tensor_dataloader = DataLoader(\n",
    "    sparse_tensor_dataset, **dataloader_kwargs, num_workers=0\n",
    ")"
   ]
  },
  {
   "cell_type": "markdown",
   "metadata": {},
   "source": [
    "The sparse tensor dataset takes about 5.7 GB of GPU memory. Not very efficient, but also not terrible. What about training speeds?"
   ]
  },
  {
   "cell_type": "code",
   "execution_count": 14,
   "metadata": {},
   "outputs": [],
   "source": [
    "def gpu_training_loop(model):\n",
    "    for data, targets in iter(sparse_tensor_dataloader):\n",
    "        data = data.to_dense()\n",
    "        sinabs.reset_states(model)\n",
    "        output = model(data)\n",
    "        loss = nn.functional.cross_entropy(output.sum(1), targets)\n",
    "        loss.backward()"
   ]
  },
  {
   "cell_type": "code",
   "execution_count": 15,
   "metadata": {},
   "outputs": [],
   "source": [
    "time5 = timeit(lambda: gpu_training_loop(sinabs_model), number=1)\n",
    "time6 = timeit(lambda: gpu_training_loop(exodus_model), number=1)"
   ]
  },
  {
   "cell_type": "code",
   "execution_count": 16,
   "metadata": {
    "tags": [
     "remove_cell"
    ]
   },
   "outputs": [],
   "source": [
    "df.iloc[2, 0] = time5\n",
    "df.iloc[5, 0] = time6\n",
    "\n",
    "fig = px.bar(\n",
    "    df,\n",
    "    x=\"Dataloading method\",\n",
    "    y=\"Training loop time (s)\",\n",
    "    color=\"Model\",\n",
    "    template=\"plotly_dark\",\n",
    "    barmode=\"group\",\n",
    "    title=\"Training SNNs faster\",\n",
    ")\n",
    "fig.write_json(\"result3.json\");"
   ]
  },
  {
   "cell_type": "markdown",
   "metadata": {},
   "source": [
    "{{< chart data=\"result3\" >}}\n",
    "\n",
    "We're down to less than 9s per epoch for the EXODUS model, which is another 40% less than disk-caching and an almost 15-fold improvement over the original Sinabs model using the naïve dataloading approach! Now we're really exploiting the GPU as much as possible with a utilisation percentage of ~99%. All this without any qualitative impact on gradient computation. \n",
    "\n",
    "## Conclusion\n",
    "The principle of caching can be applied to any data that you apply deterministic transformations to, but it pays off particularly well for event-based data. By using cached samples and not having to recompute the same transformations every time, we save ourselves a lot of time during training. If the data already sits on the GPU when it is requested, the speedup is really high. After all, there is a reason why neural network accelerators heavily optimise memory caching to minimise time and energy spent on data movement. So when should you use either disk- or GPU-caching?\n",
    "\n",
    "* **Disk-caching**: Broadly applicable, useful if you apply deterministic transformations to each sample and you train for many epochs. Not ideal if you're low on disk space.\n",
    "* **GPU-caching**: Only really suitable for small datasets and a bit more intricate to setup, but well worth the effort if you want to explore many different architectures / training parameters due to the speed of iteration.\n",
    "\n",
    "As a last note, you might be wondering why we don't cache to the host memory instead of reading from a disk cache. This is totally possible, but the bottleneck at that point really is moving the data onto the GPU, which takes time. Whether the data sits in host memory or is loaded from disk using multiple worker threads doesn't make much of a difference, because the GPU cannot handle the data movement. Since on disk we have much more space available than in RAM, we normally choose to do that.\n",
    "\n",
    "This tutorial is available [here](https://github.com/biphasic/snn-training-templates) for you to run, where you'll also find some other training templates.\n",
    "\n",
    "Acknowledgements: Thanks a lot to Omar Oubari, Mina Khoei and Fabrizio Ottati for the feedback."
   ]
  }
 ],
 "metadata": {
  "kernelspec": {
   "display_name": "Python 3.9.12 ('synsense')",
   "language": "python",
   "name": "python3"
  },
  "language_info": {
   "codemirror_mode": {
    "name": "ipython",
    "version": 3
   },
   "file_extension": ".py",
   "mimetype": "text/x-python",
   "name": "python",
   "nbconvert_exporter": "python",
   "pygments_lexer": "ipython3",
   "version": "3.9.12"
  },
  "orig_nbformat": 4,
  "vscode": {
   "interpreter": {
    "hash": "b0d71d32d2b596f460291e0fcc4c5be95d741b16cf87a49532d3e8154ab3bc33"
   }
  }
 },
 "nbformat": 4,
 "nbformat_minor": 2
}
